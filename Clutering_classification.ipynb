{
 "cells": [
  {
   "cell_type": "code",
   "execution_count": 75,
   "metadata": {},
   "outputs": [
    {
     "name": "stdout",
     "output_type": "stream",
     "text": [
      "Automatically created module for IPython interactive environment\n"
     ]
    }
   ],
   "source": [
    "from sklearn.ensemble import RandomForestClassifier\n",
    "from sklearn.model_selection import train_test_split\n",
    "import pandas as pd\n",
    "import numpy as np\n",
    "from sklearn.metrics import precision_recall_fscore_support,confusion_matrix,classification_report\n",
    "from sklearn.preprocessing import StandardScaler\n",
    "from sklearn.naive_bayes import MultinomialNB\n",
    "from pandas_ml import ConfusionMatrix\n",
    "from __future__ import print_function\n",
    "\n",
    "from sklearn.datasets import make_blobs\n",
    "from sklearn.cluster import KMeans\n",
    "from sklearn.metrics import silhouette_samples, silhouette_score\n",
    "\n",
    "import matplotlib.pyplot as plt\n",
    "import matplotlib.cm as cm\n",
    "import numpy as np\n",
    "from sklearn import svm\n",
    "print(__doc__)"
   ]
  },
  {
   "cell_type": "code",
   "execution_count": 59,
   "metadata": {
    "collapsed": true
   },
   "outputs": [],
   "source": [
    "base_data=pd.read_csv('D:/Freelancer_questions/excel_python_replication/Segment_classification/Customers2.csv')"
   ]
  },
  {
   "cell_type": "code",
   "execution_count": 60,
   "metadata": {},
   "outputs": [
    {
     "data": {
      "text/html": [
       "<div>\n",
       "<style>\n",
       "    .dataframe thead tr:only-child th {\n",
       "        text-align: right;\n",
       "    }\n",
       "\n",
       "    .dataframe thead th {\n",
       "        text-align: left;\n",
       "    }\n",
       "\n",
       "    .dataframe tbody tr th {\n",
       "        vertical-align: top;\n",
       "    }\n",
       "</style>\n",
       "<table border=\"1\" class=\"dataframe\">\n",
       "  <thead>\n",
       "    <tr style=\"text-align: right;\">\n",
       "      <th></th>\n",
       "      <th>CustomerID</th>\n",
       "      <th>Genre</th>\n",
       "      <th>Age</th>\n",
       "      <th>Annual Income (€K)</th>\n",
       "      <th>Spending Score</th>\n",
       "    </tr>\n",
       "  </thead>\n",
       "  <tbody>\n",
       "    <tr>\n",
       "      <th>0</th>\n",
       "      <td>23453456</td>\n",
       "      <td>Male</td>\n",
       "      <td>20</td>\n",
       "      <td>15</td>\n",
       "      <td>39</td>\n",
       "    </tr>\n",
       "    <tr>\n",
       "      <th>1</th>\n",
       "      <td>23453457</td>\n",
       "      <td>Male</td>\n",
       "      <td>20</td>\n",
       "      <td>15</td>\n",
       "      <td>81</td>\n",
       "    </tr>\n",
       "    <tr>\n",
       "      <th>2</th>\n",
       "      <td>23453458</td>\n",
       "      <td>Female</td>\n",
       "      <td>21</td>\n",
       "      <td>16</td>\n",
       "      <td>6</td>\n",
       "    </tr>\n",
       "    <tr>\n",
       "      <th>3</th>\n",
       "      <td>23453459</td>\n",
       "      <td>Female</td>\n",
       "      <td>23</td>\n",
       "      <td>16</td>\n",
       "      <td>77</td>\n",
       "    </tr>\n",
       "    <tr>\n",
       "      <th>4</th>\n",
       "      <td>23453460</td>\n",
       "      <td>Female</td>\n",
       "      <td>655</td>\n",
       "      <td>17</td>\n",
       "      <td>40</td>\n",
       "    </tr>\n",
       "  </tbody>\n",
       "</table>\n",
       "</div>"
      ],
      "text/plain": [
       "   CustomerID   Genre  Age  Annual Income (€K)  Spending Score \n",
       "0    23453456    Male   20                  15               39\n",
       "1    23453457    Male   20                  15               81\n",
       "2    23453458  Female   21                  16                6\n",
       "3    23453459  Female   23                  16               77\n",
       "4    23453460  Female  655                  17               40"
      ]
     },
     "execution_count": 60,
     "metadata": {},
     "output_type": "execute_result"
    }
   ],
   "source": [
    "base_data.head()"
   ]
  },
  {
   "cell_type": "code",
   "execution_count": 61,
   "metadata": {
    "collapsed": true
   },
   "outputs": [],
   "source": [
    "#converting the age variables to dummy variables#\n",
    "#creating dummy codes for the caegorical variables#\n",
    "New_base=pd.get_dummies(base_data, columns=[\"Genre\"], prefix=[\"Gender\"])"
   ]
  },
  {
   "cell_type": "code",
   "execution_count": 62,
   "metadata": {
    "scrolled": true
   },
   "outputs": [
    {
     "data": {
      "text/html": [
       "<div>\n",
       "<style>\n",
       "    .dataframe thead tr:only-child th {\n",
       "        text-align: right;\n",
       "    }\n",
       "\n",
       "    .dataframe thead th {\n",
       "        text-align: left;\n",
       "    }\n",
       "\n",
       "    .dataframe tbody tr th {\n",
       "        vertical-align: top;\n",
       "    }\n",
       "</style>\n",
       "<table border=\"1\" class=\"dataframe\">\n",
       "  <thead>\n",
       "    <tr style=\"text-align: right;\">\n",
       "      <th></th>\n",
       "      <th>CustomerID</th>\n",
       "      <th>Age</th>\n",
       "      <th>Annual Income (€K)</th>\n",
       "      <th>Spending Score</th>\n",
       "      <th>Gender_Female</th>\n",
       "      <th>Gender_Male</th>\n",
       "    </tr>\n",
       "  </thead>\n",
       "  <tbody>\n",
       "    <tr>\n",
       "      <th>0</th>\n",
       "      <td>23453456</td>\n",
       "      <td>20</td>\n",
       "      <td>15</td>\n",
       "      <td>39</td>\n",
       "      <td>0</td>\n",
       "      <td>1</td>\n",
       "    </tr>\n",
       "    <tr>\n",
       "      <th>1</th>\n",
       "      <td>23453457</td>\n",
       "      <td>20</td>\n",
       "      <td>15</td>\n",
       "      <td>81</td>\n",
       "      <td>0</td>\n",
       "      <td>1</td>\n",
       "    </tr>\n",
       "    <tr>\n",
       "      <th>2</th>\n",
       "      <td>23453458</td>\n",
       "      <td>21</td>\n",
       "      <td>16</td>\n",
       "      <td>6</td>\n",
       "      <td>1</td>\n",
       "      <td>0</td>\n",
       "    </tr>\n",
       "    <tr>\n",
       "      <th>3</th>\n",
       "      <td>23453459</td>\n",
       "      <td>23</td>\n",
       "      <td>16</td>\n",
       "      <td>77</td>\n",
       "      <td>1</td>\n",
       "      <td>0</td>\n",
       "    </tr>\n",
       "    <tr>\n",
       "      <th>4</th>\n",
       "      <td>23453460</td>\n",
       "      <td>655</td>\n",
       "      <td>17</td>\n",
       "      <td>40</td>\n",
       "      <td>1</td>\n",
       "      <td>0</td>\n",
       "    </tr>\n",
       "  </tbody>\n",
       "</table>\n",
       "</div>"
      ],
      "text/plain": [
       "   CustomerID  Age  Annual Income (€K)  Spending Score   Gender_Female  \\\n",
       "0    23453456   20                  15               39              0   \n",
       "1    23453457   20                  15               81              0   \n",
       "2    23453458   21                  16                6              1   \n",
       "3    23453459   23                  16               77              1   \n",
       "4    23453460  655                  17               40              1   \n",
       "\n",
       "   Gender_Male  \n",
       "0            1  \n",
       "1            1  \n",
       "2            0  \n",
       "3            0  \n",
       "4            0  "
      ]
     },
     "execution_count": 62,
     "metadata": {},
     "output_type": "execute_result"
    }
   ],
   "source": [
    "New_base.head()"
   ]
  },
  {
   "cell_type": "code",
   "execution_count": 63,
   "metadata": {},
   "outputs": [
    {
     "data": {
      "text/plain": [
       "Index(['CustomerID', 'Age', 'Annual Income (€K)', 'Spending Score ',\n",
       "       'Gender_Female', 'Gender_Male'],\n",
       "      dtype='object')"
      ]
     },
     "execution_count": 63,
     "metadata": {},
     "output_type": "execute_result"
    }
   ],
   "source": [
    "New_base.columns"
   ]
  },
  {
   "cell_type": "code",
   "execution_count": 64,
   "metadata": {
    "collapsed": true
   },
   "outputs": [],
   "source": [
    "#subsetting the data for clustering##\n",
    "cluster_data=New_base[[ 'Age', 'Annual Income (€K)', 'Spending Score ','Gender_Female', 'Gender_Male']]"
   ]
  },
  {
   "cell_type": "code",
   "execution_count": 43,
   "metadata": {},
   "outputs": [
    {
     "data": {
      "text/html": [
       "<div>\n",
       "<style>\n",
       "    .dataframe thead tr:only-child th {\n",
       "        text-align: right;\n",
       "    }\n",
       "\n",
       "    .dataframe thead th {\n",
       "        text-align: left;\n",
       "    }\n",
       "\n",
       "    .dataframe tbody tr th {\n",
       "        vertical-align: top;\n",
       "    }\n",
       "</style>\n",
       "<table border=\"1\" class=\"dataframe\">\n",
       "  <thead>\n",
       "    <tr style=\"text-align: right;\">\n",
       "      <th></th>\n",
       "      <th>Age</th>\n",
       "      <th>Annual Income (€K)</th>\n",
       "      <th>Spending Score</th>\n",
       "      <th>Gender_Female</th>\n",
       "      <th>Gender_Male</th>\n",
       "    </tr>\n",
       "  </thead>\n",
       "  <tbody>\n",
       "    <tr>\n",
       "      <th>0</th>\n",
       "      <td>20</td>\n",
       "      <td>15</td>\n",
       "      <td>39</td>\n",
       "      <td>0</td>\n",
       "      <td>1</td>\n",
       "    </tr>\n",
       "    <tr>\n",
       "      <th>1</th>\n",
       "      <td>20</td>\n",
       "      <td>15</td>\n",
       "      <td>81</td>\n",
       "      <td>0</td>\n",
       "      <td>1</td>\n",
       "    </tr>\n",
       "    <tr>\n",
       "      <th>2</th>\n",
       "      <td>21</td>\n",
       "      <td>16</td>\n",
       "      <td>6</td>\n",
       "      <td>1</td>\n",
       "      <td>0</td>\n",
       "    </tr>\n",
       "    <tr>\n",
       "      <th>3</th>\n",
       "      <td>23</td>\n",
       "      <td>16</td>\n",
       "      <td>77</td>\n",
       "      <td>1</td>\n",
       "      <td>0</td>\n",
       "    </tr>\n",
       "    <tr>\n",
       "      <th>4</th>\n",
       "      <td>655</td>\n",
       "      <td>17</td>\n",
       "      <td>40</td>\n",
       "      <td>1</td>\n",
       "      <td>0</td>\n",
       "    </tr>\n",
       "  </tbody>\n",
       "</table>\n",
       "</div>"
      ],
      "text/plain": [
       "   Age  Annual Income (€K)  Spending Score   Gender_Female  Gender_Male\n",
       "0   20                  15               39              0            1\n",
       "1   20                  15               81              0            1\n",
       "2   21                  16                6              1            0\n",
       "3   23                  16               77              1            0\n",
       "4  655                  17               40              1            0"
      ]
     },
     "execution_count": 43,
     "metadata": {},
     "output_type": "execute_result"
    }
   ],
   "source": [
    "cluster_data.head()"
   ]
  },
  {
   "cell_type": "code",
   "execution_count": 65,
   "metadata": {
    "scrolled": true
   },
   "outputs": [
    {
     "name": "stdout",
     "output_type": "stream",
     "text": [
      "For n_clusters=2, The Silhouette Coefficient is 0.9148914125226576\n",
      "For n_clusters=3, The Silhouette Coefficient is 0.29292304245644535\n",
      "For n_clusters=4, The Silhouette Coefficient is 0.3796517214408109\n",
      "For n_clusters=5, The Silhouette Coefficient is 0.3881391571756269\n",
      "For n_clusters=6, The Silhouette Coefficient is 0.4593309699231937\n",
      "For n_clusters=7, The Silhouette Coefficient is 0.4560506413639429\n",
      "For n_clusters=8, The Silhouette Coefficient is 0.44447521673072626\n",
      "For n_clusters=9, The Silhouette Coefficient is 0.43421924058447803\n",
      "For n_clusters=10, The Silhouette Coefficient is 0.4166831281590403\n"
     ]
    }
   ],
   "source": [
    "#checking the optimal number of clusters using silhouette method#\n",
    "for n_cluster in range(2, 11):\n",
    "    kmeans = KMeans(n_clusters=n_cluster).fit(cluster_data)\n",
    "    label = kmeans.labels_\n",
    "    sil_coeff = silhouette_score(cluster_data, label, metric='euclidean')\n",
    "    print(\"For n_clusters={}, The Silhouette Coefficient is {}\".format(n_cluster, sil_coeff))"
   ]
  },
  {
   "cell_type": "code",
   "execution_count": 66,
   "metadata": {},
   "outputs": [
    {
     "data": {
      "image/png": "[encoded data removed]",
      "text/plain": [
       "<matplotlib.figure.Figure at 0x177227cbc50>"
      ]
     },
     "metadata": {},
     "output_type": "display_data"
    }
   ],
   "source": [
    "#elbow curve for identifying the cluster number#\n",
    "sse = {}\n",
    "for k in range(1, 10):\n",
    "    kmeans = KMeans(n_clusters=k, max_iter=1000).fit(cluster_data)\n",
    "    cluster_data[\"clusters\"] = kmeans.labels_\n",
    "    #print(data[\"clusters\"])\n",
    "    sse[k] = kmeans.inertia_ # Inertia: Sum of distances of samples to their closest cluster center\n",
    "plt.figure()\n",
    "plt.plot(list(sse.keys()), list(sse.values()))\n",
    "plt.xlabel(\"Number of cluster\")\n",
    "plt.ylabel(\"SSE\")\n",
    "plt.show()"
   ]
  },
  {
   "cell_type": "code",
   "execution_count": 68,
   "metadata": {},
   "outputs": [
    {
     "name": "stdout",
     "output_type": "stream",
     "text": [
      "Wall time: 26.9 ms\n"
     ]
    }
   ],
   "source": [
    "#getting optimal number of cluster as 6 from both the above methods\n",
    "#clustering the data based on Annual Income/Spending Sore/ Gender\n",
    "from sklearn.cluster import KMeans\n",
    "\n",
    "num_clusters = 4\n",
    "\n",
    "km = KMeans(n_clusters=num_clusters)\n",
    "\n",
    "%time km.fit(cluster_data)\n",
    "\n",
    "clusters = km.labels_.tolist()"
   ]
  },
  {
   "cell_type": "code",
   "execution_count": 69,
   "metadata": {
    "scrolled": false
   },
   "outputs": [
    {
     "data": {
      "text/html": [
       "<div>\n",
       "<style>\n",
       "    .dataframe thead tr:only-child th {\n",
       "        text-align: right;\n",
       "    }\n",
       "\n",
       "    .dataframe thead th {\n",
       "        text-align: left;\n",
       "    }\n",
       "\n",
       "    .dataframe tbody tr th {\n",
       "        vertical-align: top;\n",
       "    }\n",
       "</style>\n",
       "<table border=\"1\" class=\"dataframe\">\n",
       "  <thead>\n",
       "    <tr style=\"text-align: right;\">\n",
       "      <th></th>\n",
       "      <th>Age</th>\n",
       "      <th>Annual Income (€K)</th>\n",
       "      <th>Spending Score</th>\n",
       "      <th>Gender_Female</th>\n",
       "      <th>Gender_Male</th>\n",
       "      <th>clusters</th>\n",
       "    </tr>\n",
       "  </thead>\n",
       "  <tbody>\n",
       "    <tr>\n",
       "      <th>0</th>\n",
       "      <td>20</td>\n",
       "      <td>15</td>\n",
       "      <td>39</td>\n",
       "      <td>0</td>\n",
       "      <td>1</td>\n",
       "      <td>2</td>\n",
       "    </tr>\n",
       "    <tr>\n",
       "      <th>1</th>\n",
       "      <td>20</td>\n",
       "      <td>15</td>\n",
       "      <td>81</td>\n",
       "      <td>0</td>\n",
       "      <td>1</td>\n",
       "      <td>2</td>\n",
       "    </tr>\n",
       "    <tr>\n",
       "      <th>2</th>\n",
       "      <td>21</td>\n",
       "      <td>16</td>\n",
       "      <td>6</td>\n",
       "      <td>1</td>\n",
       "      <td>0</td>\n",
       "      <td>2</td>\n",
       "    </tr>\n",
       "    <tr>\n",
       "      <th>3</th>\n",
       "      <td>23</td>\n",
       "      <td>16</td>\n",
       "      <td>77</td>\n",
       "      <td>1</td>\n",
       "      <td>0</td>\n",
       "      <td>2</td>\n",
       "    </tr>\n",
       "    <tr>\n",
       "      <th>4</th>\n",
       "      <td>655</td>\n",
       "      <td>17</td>\n",
       "      <td>40</td>\n",
       "      <td>1</td>\n",
       "      <td>0</td>\n",
       "      <td>1</td>\n",
       "    </tr>\n",
       "  </tbody>\n",
       "</table>\n",
       "</div>"
      ],
      "text/plain": [
       "   Age  Annual Income (€K)  Spending Score   Gender_Female  Gender_Male  \\\n",
       "0   20                  15               39              0            1   \n",
       "1   20                  15               81              0            1   \n",
       "2   21                  16                6              1            0   \n",
       "3   23                  16               77              1            0   \n",
       "4  655                  17               40              1            0   \n",
       "\n",
       "   clusters  \n",
       "0         2  \n",
       "1         2  \n",
       "2         2  \n",
       "3         2  \n",
       "4         1  "
      ]
     },
     "execution_count": 69,
     "metadata": {},
     "output_type": "execute_result"
    }
   ],
   "source": [
    "#appending the unsupervised tags to the base data#\n",
    "cluster_data['clusters']=clusters\n",
    "cluster_data.head()"
   ]
  },
  {
   "cell_type": "code",
   "execution_count": 70,
   "metadata": {},
   "outputs": [],
   "source": [
    "#converting the k means labels to categories#\n",
    "cluster_data[\"category\"] = np.where(cluster_data['clusters']==0, 'zero',(np.where(cluster_data['clusters']==1,'one','others')))"
   ]
  },
  {
   "cell_type": "code",
   "execution_count": 23,
   "metadata": {},
   "outputs": [
    {
     "data": {
      "text/plain": [
       "Index(['Age', 'Annual Income (€K)', 'Spending Score ', 'Gender_Female',\n",
       "       'Gender_Male', 'clusters', 'category'],\n",
       "      dtype='object')"
      ]
     },
     "execution_count": 23,
     "metadata": {},
     "output_type": "execute_result"
    }
   ],
   "source": [
    "cluster_data.columns"
   ]
  },
  {
   "cell_type": "code",
   "execution_count": 71,
   "metadata": {
    "collapsed": true
   },
   "outputs": [],
   "source": [
    "X=cluster_data[['Age', 'Annual Income (€K)', 'Spending Score ', 'Gender_Female','Gender_Male']]\n",
    "y=cluster_data['category']"
   ]
  },
  {
   "cell_type": "code",
   "execution_count": 72,
   "metadata": {
    "collapsed": true
   },
   "outputs": [],
   "source": [
    "#dividing the data in training and test#\n",
    "X_train, X_test, y_train, y_test = train_test_split(X, y, test_size=0.20, random_state=42)"
   ]
  },
  {
   "cell_type": "code",
   "execution_count": 73,
   "metadata": {
    "scrolled": true
   },
   "outputs": [
    {
     "name": "stdout",
     "output_type": "stream",
     "text": [
      "Confusion Matrix:\n",
      "\n",
      "Predicted  one  others  zero  __all__\n",
      "Actual                               \n",
      "one          0       1     0        1\n",
      "others       0     121    18      139\n",
      "zero         0      12     3       15\n",
      "__all__      0     134    21      155\n",
      "\n",
      "\n",
      "Overall Statistics:\n",
      "\n",
      "Accuracy: 0.8\n",
      "95% CI: (0.7282920581447612, 0.8598800464327158)\n",
      "No Information Rate: ToDo\n",
      "P-Value [Acc > NIR]: 0.9905456560279955\n",
      "Kappa: 0.05487804878048825\n",
      "Mcnemar's Test P-Value: ToDo\n",
      "\n",
      "\n",
      "Class Statistics:\n",
      "\n",
      "Classes                                       one     others       zero\n",
      "Population                                    155        155        155\n",
      "P: Condition positive                           1        139         15\n",
      "N: Condition negative                         154         16        140\n",
      "Test outcome positive                           0        134         21\n",
      "Test outcome negative                         155         21        134\n",
      "TP: True Positive                               0        121          3\n",
      "TN: True Negative                             154          3        122\n",
      "FP: False Positive                              0         13         18\n",
      "FN: False Negative                              1         18         12\n",
      "TPR: (Sensitivity, hit rate, recall)            0   0.870504        0.2\n",
      "TNR=SPC: (Specificity)                          1     0.1875   0.871429\n",
      "PPV: Pos Pred Value (Precision)               NaN   0.902985   0.142857\n",
      "NPV: Neg Pred Value                      0.993548   0.142857   0.910448\n",
      "FPR: False-out                                  0     0.8125   0.128571\n",
      "FDR: False Discovery Rate                     NaN  0.0970149   0.857143\n",
      "FNR: Miss Rate                                  1   0.129496        0.8\n",
      "ACC: Accuracy                            0.993548        0.8   0.806452\n",
      "F1 score                                        0   0.886447   0.166667\n",
      "MCC: Matthews correlation coefficient         NaN  0.0515656  0.0617049\n",
      "Informedness                                    0  0.0580036  0.0714286\n",
      "Markedness                                    NaN  0.0458422  0.0533049\n",
      "Prevalence                             0.00645161   0.896774  0.0967742\n",
      "LR+: Positive likelihood ratio                NaN    1.07139    1.55556\n",
      "LR-: Negative likelihood ratio                  1   0.690647   0.918033\n",
      "DOR: Diagnostic odds ratio                    NaN    1.55128    1.69444\n",
      "FOR: False omission rate               0.00645161   0.857143  0.0895522\n"
     ]
    },
    {
     "name": "stderr",
     "output_type": "stream",
     "text": [
      "C:\\Users\\ragha\\Anaconda3\\lib\\site-packages\\pandas_ml\\confusion_matrix\\bcm.py:236: RuntimeWarning: invalid value encountered in double_scalars\n",
      "  return(np.float64(self.TP) / self.PositiveTest)\n",
      "C:\\Users\\ragha\\Anaconda3\\lib\\site-packages\\pandas_ml\\confusion_matrix\\bcm.py:267: RuntimeWarning: invalid value encountered in double_scalars\n",
      "  return(np.float64(self.FP) / self.PositiveTest)\n",
      "C:\\Users\\ragha\\Anaconda3\\lib\\site-packages\\pandas_ml\\confusion_matrix\\bcm.py:304: RuntimeWarning: invalid value encountered in true_divide\n",
      "  (self.TN + self.FP) * (self.TN + self.FN)))\n",
      "C:\\Users\\ragha\\Anaconda3\\lib\\site-packages\\pandas_ml\\confusion_matrix\\bcm.py:332: RuntimeWarning: invalid value encountered in double_scalars\n",
      "  return(np.float64(self.TPR) / self.FPR)\n"
     ]
    }
   ],
   "source": [
    "#create model on the training data#\n",
    "clf = RandomForestClassifier(max_depth=2, random_state=0)\n",
    "clf=clf.fit(X_train, y_train)\n",
    "#predicitng based on rf model for training data\n",
    "Predicted_risk=clf.predict(X_train)\n",
    "cm = ConfusionMatrix(y_train, Predicted_risk)\n",
    "cm.print_stats()"
   ]
  },
  {
   "cell_type": "code",
   "execution_count": 74,
   "metadata": {},
   "outputs": [
    {
     "name": "stdout",
     "output_type": "stream",
     "text": [
      "population: 13\n",
      "P: 0\n",
      "N: 13\n",
      "PositiveTest: 1\n",
      "NegativeTest: 12\n",
      "TP: 0\n",
      "TN: 12\n",
      "FP: 1\n",
      "FN: 0\n",
      "TPR: nan\n",
      "TNR: 0.9230769230769231\n",
      "PPV: 0.0\n",
      "NPV: 1.0\n",
      "FPR: 0.07692307692307693\n",
      "FDR: 1.0\n",
      "FNR: nan\n",
      "ACC: 0.9230769230769231\n",
      "F1_score: 0.0\n",
      "MCC: nan\n",
      "informedness: nan\n",
      "markedness: 0.0\n",
      "prevalence: 0.0\n",
      "LRP: nan\n",
      "LRN: nan\n",
      "DOR: nan\n",
      "FOR: 0.0\n"
     ]
    },
    {
     "name": "stderr",
     "output_type": "stream",
     "text": [
      "C:\\Users\\ragha\\Anaconda3\\lib\\site-packages\\pandas_ml\\confusion_matrix\\bcm.py:191: RuntimeWarning: invalid value encountered in double_scalars\n",
      "  return(np.float64(self.TP) / self.P)\n",
      "C:\\Users\\ragha\\Anaconda3\\lib\\site-packages\\pandas_ml\\confusion_matrix\\bcm.py:276: RuntimeWarning: invalid value encountered in double_scalars\n",
      "  return(np.float64(self.FN) / self.P)\n",
      "C:\\Users\\ragha\\Anaconda3\\lib\\site-packages\\pandas_ml\\confusion_matrix\\bcm.py:304: RuntimeWarning: invalid value encountered in true_divide\n",
      "  (self.TN + self.FP) * (self.TN + self.FN)))\n"
     ]
    }
   ],
   "source": [
    "#predicitng based on rf model for test data\n",
    "Predicted_risk_test=clf.predict(X_test)\n",
    "cm1 = ConfusionMatrix(y_test, Predicted_risk_test)\n",
    "cm1.print_stats()"
   ]
  },
  {
   "cell_type": "markdown",
   "metadata": {},
   "source": [
    "# we have got close to 92%accuracy on test set based on 4 clusters#"
   ]
  },
  {
   "cell_type": "code",
   "execution_count": 83,
   "metadata": {
    "scrolled": true
   },
   "outputs": [
    {
     "name": "stdout",
     "output_type": "stream",
     "text": [
      "Confusion Matrix:\n",
      "\n",
      "Predicted  one  others  zero  __all__\n",
      "Actual                               \n",
      "one          0       1     0        1\n",
      "others       1     119    19      139\n",
      "zero         0      12     3       15\n",
      "__all__      1     132    22      155\n",
      "\n",
      "\n",
      "Overall Statistics:\n",
      "\n",
      "Accuracy: 0.7870967741935484\n",
      "95% CI: (0.7142040762523915, 0.8486855490897706)\n",
      "No Information Rate: ToDo\n",
      "P-Value [Acc > NIR]: 0.988459925550243\n",
      "Kappa: 0.04320987654320974\n",
      "Mcnemar's Test P-Value: ToDo\n",
      "\n",
      "\n",
      "Class Statistics:\n",
      "\n",
      "Classes                                       one     others       zero\n",
      "Population                                    155        155        155\n",
      "P: Condition positive                           1        139         15\n",
      "N: Condition negative                         154         16        140\n",
      "Test outcome positive                           1        132         22\n",
      "Test outcome negative                         154         23        133\n",
      "TP: True Positive                               0        119          3\n",
      "TN: True Negative                             153          3        121\n",
      "FP: False Positive                              1         13         19\n",
      "FN: False Negative                              1         20         12\n",
      "TPR: (Sensitivity, hit rate, recall)            0   0.856115        0.2\n",
      "TNR=SPC: (Specificity)                   0.993506     0.1875   0.864286\n",
      "PPV: Pos Pred Value (Precision)                 0   0.901515   0.136364\n",
      "NPV: Neg Pred Value                      0.993506   0.130435   0.909774\n",
      "FPR: False-out                         0.00649351     0.8125   0.135714\n",
      "FDR: False Discovery Rate                       1  0.0984848   0.863636\n",
      "FNR: Miss Rate                                  1   0.143885        0.8\n",
      "ACC: Accuracy                            0.987097   0.787097        0.8\n",
      "F1 score                                        0   0.878229   0.162162\n",
      "MCC: Matthews correlation coefficient -0.00649351  0.0373296  0.0544612\n",
      "Informedness                          -0.00649351  0.0436151  0.0642857\n",
      "Markedness                            -0.00649351  0.0319499  0.0461381\n",
      "Prevalence                             0.00645161   0.896774  0.0967742\n",
      "LR+: Positive likelihood ratio                  0    1.05368    1.47368\n",
      "LR-: Negative likelihood ratio            1.00654   0.767386    0.92562\n",
      "DOR: Diagnostic odds ratio                      0    1.37308    1.59211\n",
      "FOR: False omission rate               0.00649351   0.869565  0.0902256\n"
     ]
    }
   ],
   "source": [
    " from sklearn import svm\n",
    "#SVM model training data #\n",
    "clf = svm.SVC(kernel='linear', gamma=1)\n",
    "clf.fit(X_train, y_train)\n",
    "Predicted_risk=clf.predict(X_train)\n",
    "cm = ConfusionMatrix(y_train, Predicted_risk)\n",
    "cm.print_stats()\n"
   ]
  },
  {
   "cell_type": "code",
   "execution_count": 84,
   "metadata": {},
   "outputs": [
    {
     "name": "stdout",
     "output_type": "stream",
     "text": [
      "population: 13\n",
      "P: 0\n",
      "N: 13\n",
      "PositiveTest: 2\n",
      "NegativeTest: 11\n",
      "TP: 0\n",
      "TN: 11\n",
      "FP: 2\n",
      "FN: 0\n",
      "TPR: nan\n",
      "TNR: 0.8461538461538461\n",
      "PPV: 0.0\n",
      "NPV: 1.0\n",
      "FPR: 0.15384615384615385\n",
      "FDR: 1.0\n",
      "FNR: nan\n",
      "ACC: 0.8461538461538461\n",
      "F1_score: 0.0\n",
      "MCC: nan\n",
      "informedness: nan\n",
      "markedness: 0.0\n",
      "prevalence: 0.0\n",
      "LRP: nan\n",
      "LRN: nan\n",
      "DOR: nan\n",
      "FOR: 0.0\n"
     ]
    },
    {
     "name": "stderr",
     "output_type": "stream",
     "text": [
      "C:\\Users\\ragha\\Anaconda3\\lib\\site-packages\\pandas_ml\\confusion_matrix\\bcm.py:191: RuntimeWarning: invalid value encountered in double_scalars\n",
      "  return(np.float64(self.TP) / self.P)\n",
      "C:\\Users\\ragha\\Anaconda3\\lib\\site-packages\\pandas_ml\\confusion_matrix\\bcm.py:276: RuntimeWarning: invalid value encountered in double_scalars\n",
      "  return(np.float64(self.FN) / self.P)\n",
      "C:\\Users\\ragha\\Anaconda3\\lib\\site-packages\\pandas_ml\\confusion_matrix\\bcm.py:304: RuntimeWarning: invalid value encountered in true_divide\n",
      "  (self.TN + self.FP) * (self.TN + self.FN)))\n"
     ]
    }
   ],
   "source": [
    "#predicitng based on rf model for test data\n",
    "Predicted_risk_test=clf.predict(X_test)\n",
    "cm1 = ConfusionMatrix(y_test, Predicted_risk_test)\n",
    "cm1.print_stats()"
   ]
  }
 ],
 "metadata": {
  "kernelspec": {
   "display_name": "Python 3",
   "language": "python",
   "name": "python3"
  },
  "language_info": {
   "codemirror_mode": {
    "name": "ipython",
    "version": 3
   },
   "file_extension": ".py",
   "mimetype": "text/x-python",
   "name": "python",
   "nbconvert_exporter": "python",
   "pygments_lexer": "ipython3",
   "version": "3.6.3"
  }
 },
 "nbformat": 4,
 "nbformat_minor": 2
}
